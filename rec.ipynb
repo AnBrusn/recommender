{
 "cells": [
  {
   "cell_type": "markdown",
   "metadata": {},
   "source": [
    "recommender.py - класс с самим рекомендатором, там fit, predict и всякие set'ы<br>\n",
    "utils.py - метрики и вспомогательные функции загрузки данных<br>\n",
    "model.py - сама нейронка<br>\n",
    "loader.py - загрузчик датасета для нейронки<br>\n",
    "Иходные данные https://www.kaggle.com/c/instacart-market-basket-analysis/data<br>\n",
    "analysis - всякие графики и статистика<br>\n",
    "Там 206 000 покупателей, чтобы было быстрее берём 10 000 случайных"
   ]
  },
  {
   "cell_type": "code",
   "execution_count": 1,
   "metadata": {},
   "outputs": [],
   "source": [
    "# Чтобы jupyter видел .py файлы в текущей папке\n",
    "import sys\n",
    "from pathlib import Path\n",
    "sys.path.append(str(Path.cwd().parents[0] / \"py\"))"
   ]
  },
  {
   "cell_type": "code",
   "execution_count": 2,
   "metadata": {},
   "outputs": [],
   "source": [
    "import pickle\n",
    "import pandas as pd\n",
    "import numpy as np\n",
    "import random\n",
    "from random import randrange\n",
    "from recommender import Recommender\n",
    "from utils import mapk, hitk, split, load_data"
   ]
  },
  {
   "cell_type": "code",
   "execution_count": 4,
   "metadata": {},
   "outputs": [],
   "source": [
    "# Возьмём 10 000 случайных пользователей.\n",
    "\n",
    "orders = pd.read_csv('orders.csv')[['user_id', 'order_id', 'order_number']]\n",
    "users_subsample = random.sample(orders['user_id'].unique().tolist(), 10000)\n",
    "with open('saves/users_subsample.pickle', 'wb') as out:\n",
    "    pickle.dump(users_subsample, out)\n",
    "\n",
    "orders = orders[orders['user_id'].isin(users_subsample)]\n",
    "split(orders)\n",
    "train_df, validation_df, test_df, user_enum, product_enum = load_data()"
   ]
  },
  {
   "cell_type": "code",
   "execution_count": 3,
   "metadata": {},
   "outputs": [
    {
     "data": {
      "application/vnd.jupyter.widget-view+json": {
       "model_id": "f88d59b5c5944967842fd72ea98dfd0a",
       "version_major": 2,
       "version_minor": 0
      },
      "text/plain": [
       "  0%|          | 0/6 [00:00<?, ?it/s]"
      ]
     },
     "metadata": {},
     "output_type": "display_data"
    },
    {
     "name": "stderr",
     "output_type": "stream",
     "text": [
      "GPU available: False, used: False\n",
      "TPU available: None, using: 0 TPU cores\n",
      "\n",
      "  | Name           | Type      | Params\n",
      "---------------------------------------------\n",
      "0 | user_embedding | Embedding | 50.0 K\n",
      "1 | item_embedding | Embedding | 178 K \n",
      "2 | fc1            | Linear    | 275   \n",
      "3 | fc2            | Linear    | 390   \n",
      "4 | fc3            | Linear    | 80    \n",
      "5 | output         | Linear    | 6     \n",
      "---------------------------------------------\n",
      "228 K     Trainable params\n",
      "0         Non-trainable params\n",
      "228 K     Total params\n",
      "0.916     Total estimated model params size (MB)\n"
     ]
    },
    {
     "data": {
      "application/vnd.jupyter.widget-view+json": {
       "model_id": "491a3d47d16f40d984354e62ebb9e880",
       "version_major": 2,
       "version_minor": 0
      },
      "text/plain": [
       "Training: 0it [00:00, ?it/s]"
      ]
     },
     "metadata": {},
     "output_type": "display_data"
    },
    {
     "name": "stderr",
     "output_type": "stream",
     "text": [
      "GPU available: False, used: False\n",
      "TPU available: None, using: 0 TPU cores\n",
      "\n",
      "  | Name           | Type      | Params\n",
      "---------------------------------------------\n",
      "0 | user_embedding | Embedding | 50.0 K\n",
      "1 | item_embedding | Embedding | 178 K \n",
      "2 | fc1            | Linear    | 275   \n",
      "3 | fc2            | Linear    | 390   \n",
      "4 | fc3            | Linear    | 80    \n",
      "5 | output         | Linear    | 6     \n",
      "---------------------------------------------\n",
      "228 K     Trainable params\n",
      "0         Non-trainable params\n",
      "228 K     Total params\n",
      "0.916     Total estimated model params size (MB)\n"
     ]
    },
    {
     "data": {
      "application/vnd.jupyter.widget-view+json": {
       "model_id": "32d3ec09e586435099faa1bf4962e794",
       "version_major": 2,
       "version_minor": 0
      },
      "text/plain": [
       "Training: 0it [00:00, ?it/s]"
      ]
     },
     "metadata": {},
     "output_type": "display_data"
    },
    {
     "name": "stderr",
     "output_type": "stream",
     "text": [
      "GPU available: False, used: False\n",
      "TPU available: None, using: 0 TPU cores\n",
      "\n",
      "  | Name           | Type      | Params\n",
      "---------------------------------------------\n",
      "0 | user_embedding | Embedding | 50.0 K\n",
      "1 | item_embedding | Embedding | 178 K \n",
      "2 | fc1            | Linear    | 275   \n",
      "3 | fc2            | Linear    | 390   \n",
      "4 | fc3            | Linear    | 80    \n",
      "5 | output         | Linear    | 6     \n",
      "---------------------------------------------\n",
      "228 K     Trainable params\n",
      "0         Non-trainable params\n",
      "228 K     Total params\n",
      "0.916     Total estimated model params size (MB)\n"
     ]
    },
    {
     "data": {
      "application/vnd.jupyter.widget-view+json": {
       "model_id": "71bb94eca9d64f38931d4ae2a4216837",
       "version_major": 2,
       "version_minor": 0
      },
      "text/plain": [
       "Training: 0it [00:00, ?it/s]"
      ]
     },
     "metadata": {},
     "output_type": "display_data"
    },
    {
     "name": "stderr",
     "output_type": "stream",
     "text": [
      "GPU available: False, used: False\n",
      "TPU available: None, using: 0 TPU cores\n",
      "\n",
      "  | Name           | Type      | Params\n",
      "---------------------------------------------\n",
      "0 | user_embedding | Embedding | 50.0 K\n",
      "1 | item_embedding | Embedding | 178 K \n",
      "2 | fc1            | Linear    | 275   \n",
      "3 | fc2            | Linear    | 390   \n",
      "4 | fc3            | Linear    | 80    \n",
      "5 | output         | Linear    | 6     \n",
      "---------------------------------------------\n",
      "228 K     Trainable params\n",
      "0         Non-trainable params\n",
      "228 K     Total params\n",
      "0.916     Total estimated model params size (MB)\n"
     ]
    },
    {
     "data": {
      "application/vnd.jupyter.widget-view+json": {
       "model_id": "62e6ea9b41214ebebd1f25a4d2147c96",
       "version_major": 2,
       "version_minor": 0
      },
      "text/plain": [
       "Training: 0it [00:00, ?it/s]"
      ]
     },
     "metadata": {},
     "output_type": "display_data"
    },
    {
     "name": "stderr",
     "output_type": "stream",
     "text": [
      "GPU available: False, used: False\n",
      "TPU available: None, using: 0 TPU cores\n",
      "\n",
      "  | Name           | Type      | Params\n",
      "---------------------------------------------\n",
      "0 | user_embedding | Embedding | 50.0 K\n",
      "1 | item_embedding | Embedding | 178 K \n",
      "2 | fc1            | Linear    | 275   \n",
      "3 | fc2            | Linear    | 390   \n",
      "4 | fc3            | Linear    | 80    \n",
      "5 | output         | Linear    | 6     \n",
      "---------------------------------------------\n",
      "228 K     Trainable params\n",
      "0         Non-trainable params\n",
      "228 K     Total params\n",
      "0.916     Total estimated model params size (MB)\n"
     ]
    },
    {
     "data": {
      "application/vnd.jupyter.widget-view+json": {
       "model_id": "a6e652a8ce5a4e1e93d88a6c9b0b8eaf",
       "version_major": 2,
       "version_minor": 0
      },
      "text/plain": [
       "Training: 0it [00:00, ?it/s]"
      ]
     },
     "metadata": {},
     "output_type": "display_data"
    },
    {
     "name": "stderr",
     "output_type": "stream",
     "text": [
      "GPU available: False, used: False\n",
      "TPU available: None, using: 0 TPU cores\n",
      "\n",
      "  | Name           | Type      | Params\n",
      "---------------------------------------------\n",
      "0 | user_embedding | Embedding | 50.0 K\n",
      "1 | item_embedding | Embedding | 178 K \n",
      "2 | fc1            | Linear    | 275   \n",
      "3 | fc2            | Linear    | 390   \n",
      "4 | fc3            | Linear    | 80    \n",
      "5 | output         | Linear    | 6     \n",
      "---------------------------------------------\n",
      "228 K     Trainable params\n",
      "0         Non-trainable params\n",
      "228 K     Total params\n",
      "0.916     Total estimated model params size (MB)\n"
     ]
    },
    {
     "data": {
      "application/vnd.jupyter.widget-view+json": {
       "model_id": "061803bfeab44242904fb2587ba8d5d4",
       "version_major": 2,
       "version_minor": 0
      },
      "text/plain": [
       "Training: 0it [00:00, ?it/s]"
      ]
     },
     "metadata": {},
     "output_type": "display_data"
    }
   ],
   "source": [
    "from tqdm.notebook import tqdm\n",
    "\n",
    "mapk_val, mapk_train, hitk_val, hitk_train = [], [], [], []\n",
    "\n",
    "# Для обучения для каждого купленного пользователем продукта выбираем несколько продуктов, которые он не покупал\n",
    "# Оптимально на один купленный 3 негативных\n",
    "for neg in tqdm([2,3,4,5]):\n",
    "    # Если обучаяем с нуля\n",
    "    recommender = Recommender(train_df, validation_df, test_df, neg_num=neg)\n",
    "    recommender.train_data.to_csv('saves/train_data_for_model-{}_neg.csv'.format(neg), index=False)\n",
    "    recommender.val_data.to_csv('saves/val_data_for_model.csv', index=False)\n",
    "    recommender.test_data.to_csv('saves/test_data_for_model.csv', index=False)\n",
    "    recommender.set_components_number(5) # число компонент в эмбэдинге\n",
    "    recommender.fit('saves/model-5-{}neg.pickle'.format(neg), epochs=10)\n",
    "\n",
    "    # Если уже обучили и сохранили данные и модели, то просто загружаем их\n",
    "#     recommender = Recommender(neg_num=neg)\n",
    "#     recommender.set_components_number(5) # число компонент в эмбэдинге\n",
    "#     recommender.set_data_for_model('saves/train_data_for_model-{}_neg.csv'.format(neg), 'saves/val_data_for_model.csv', 'saves/test_data_for_model.csv')\n",
    "# #     recommender.set_model('saves/model-5-{}neg.pickle'.format(neg))\n",
    "#     recommender.fit('saves/model-5-{}neg.pickle'.format(neg), epochs=10)\n",
    "    \n",
    "    val_dict = recommender.val_data.groupby('user_id')['product_id'].apply(list).to_dict()\n",
    "    actual_val_dict = recommender.val_data[recommender.val_data['bought'] != 0].groupby('user_id')['product_id'].apply(list).to_dict()\n",
    "    train_dict = recommender.train_data.groupby('user_id')['product_id'].apply(list).to_dict()\n",
    "    actual_train_dict = recommender.train_data[recommender.train_data['bought'] != 0].groupby('user_id')['product_id'].apply(list).to_dict()\n",
    "\n",
    "    # В валидационной выборке для каждого покупателя на один купленный продукт есть 10 некупленных\n",
    "    # Предсказываем для продуктов вероятность, что пользователь их купит, сортируем\n",
    "    # map@k учитывает место, на котором находится продукт в отсортированных предсказаниях, это метрика ранжирования\n",
    "    # p@k не учитывает место в отсортированном списке где стоят нужные продукты, проверяем только их наличие\n",
    "    preds = []\n",
    "    actuals = []\n",
    "    for user, items in val_dict.items():\n",
    "        res = recommender.predict_for_user(user, items).tolist()\n",
    "        preds += [[x for _, x in sorted(zip(res, items), reverse=True)]]\n",
    "        actuals += [actual_val_dict[user]]\n",
    "    mapk_val += [mapk(actuals, preds)]\n",
    "    hitk_val += [hitk(actuals, preds)]\n",
    "    \n",
    "    preds = []\n",
    "    actuals = []\n",
    "    for user, items in train_dict.items():\n",
    "        res = recommender.predict_for_user(user, items).tolist()\n",
    "        preds += [[x for _, x in sorted(zip(res, items), reverse=True)]]\n",
    "        actuals += [actual_train_dict[user]]\n",
    "    mapk_train += [mapk(actuals, preds)]\n",
    "    hitk_train += [hitk(actuals, preds)]"
   ]
  },
  {
   "cell_type": "code",
   "execution_count": 5,
   "metadata": {},
   "outputs": [
    {
     "data": {
      "image/png": "[encoded data removed]",
      "text/plain": [
       "<Figure size 432x288 with 1 Axes>"
      ]
     },
     "metadata": {
      "needs_background": "light"
     },
     "output_type": "display_data"
    },
    {
     "data": {
      "image/png": "[encoded data removed]",
      "text/plain": [
       "<Figure size 432x288 with 1 Axes>"
      ]
     },
     "metadata": {
      "needs_background": "light"
     },
     "output_type": "display_data"
    }
   ],
   "source": [
    "import matplotlib.pyplot as plt\n",
    "plt.figure(1)\n",
    "plt.plot([2, 3, 4, 5], hitk_train, label='on train data', c='g'),\n",
    "plt.plot([2, 3, 4, 5], hitk_val, label='on validation data', c='y')\n",
    "plt.xlabel('number of negatives')\n",
    "plt.ylabel('p@10')\n",
    "plt.legend(loc='upper left')\n",
    "plt.show()\n",
    "plt.figure(2)\n",
    "plt.plot([2, 3, 4, 5], mapk_train, label='on train data', c='g'),\n",
    "plt.plot([2, 3, 4, 5], mapk_val, label='on validation data', c='y')\n",
    "plt.xlabel('number of negatives')\n",
    "plt.ylabel('map@10')\n",
    "plt.legend(loc='upper left')\n",
    "plt.show()"
   ]
  },
  {
   "cell_type": "code",
   "execution_count": null,
   "metadata": {},
   "outputs": [],
   "source": []
  },
  {
   "cell_type": "code",
   "execution_count": 16,
   "metadata": {},
   "outputs": [
    {
     "data": {
      "application/vnd.jupyter.widget-view+json": {
       "model_id": "e119a15b0ef144a69e4e08106b714ca5",
       "version_major": 2,
       "version_minor": 0
      },
      "text/plain": [
       "  0%|          | 0/8 [00:00<?, ?it/s]"
      ]
     },
     "metadata": {},
     "output_type": "display_data"
    },
    {
     "name": "stderr",
     "output_type": "stream",
     "text": [
      "GPU available: False, used: False\n",
      "TPU available: None, using: 0 TPU cores\n",
      "\n",
      "  | Name           | Type      | Params\n",
      "---------------------------------------------\n",
      "0 | user_embedding | Embedding | 30.0 K\n",
      "1 | item_embedding | Embedding | 106 K \n",
      "2 | fc1            | Linear    | 105   \n",
      "3 | fc2            | Linear    | 144   \n",
      "4 | fc3            | Linear    | 30    \n",
      "5 | output         | Linear    | 4     \n",
      "---------------------------------------------\n",
      "137 K     Trainable params\n",
      "0         Non-trainable params\n",
      "137 K     Total params\n",
      "0.549     Total estimated model params size (MB)\n"
     ]
    },
    {
     "data": {
      "application/vnd.jupyter.widget-view+json": {
       "model_id": "080cf178c62a4d5b8449a4036f516d8a",
       "version_major": 2,
       "version_minor": 0
      },
      "text/plain": [
       "Training: 0it [00:00, ?it/s]"
      ]
     },
     "metadata": {},
     "output_type": "display_data"
    },
    {
     "name": "stderr",
     "output_type": "stream",
     "text": [
      "GPU available: False, used: False\n",
      "TPU available: None, using: 0 TPU cores\n",
      "\n",
      "  | Name           | Type      | Params\n",
      "---------------------------------------------\n",
      "0 | user_embedding | Embedding | 40.0 K\n",
      "1 | item_embedding | Embedding | 142 K \n",
      "2 | fc1            | Linear    | 180   \n",
      "3 | fc2            | Linear    | 252   \n",
      "4 | fc3            | Linear    | 52    \n",
      "5 | output         | Linear    | 5     \n",
      "---------------------------------------------\n",
      "183 K     Trainable params\n",
      "0         Non-trainable params\n",
      "183 K     Total params\n",
      "0.732     Total estimated model params size (MB)\n"
     ]
    },
    {
     "data": {
      "application/vnd.jupyter.widget-view+json": {
       "model_id": "593325bee7b5461f922f086fb240ad9c",
       "version_major": 2,
       "version_minor": 0
      },
      "text/plain": [
       "Training: 0it [00:00, ?it/s]"
      ]
     },
     "metadata": {},
     "output_type": "display_data"
    },
    {
     "name": "stderr",
     "output_type": "stream",
     "text": [
      "GPU available: False, used: False\n",
      "TPU available: None, using: 0 TPU cores\n",
      "\n",
      "  | Name           | Type      | Params\n",
      "---------------------------------------------\n",
      "0 | user_embedding | Embedding | 50.0 K\n",
      "1 | item_embedding | Embedding | 178 K \n",
      "2 | fc1            | Linear    | 275   \n",
      "3 | fc2            | Linear    | 390   \n",
      "4 | fc3            | Linear    | 80    \n",
      "5 | output         | Linear    | 6     \n",
      "---------------------------------------------\n",
      "228 K     Trainable params\n",
      "0         Non-trainable params\n",
      "228 K     Total params\n",
      "0.916     Total estimated model params size (MB)\n"
     ]
    },
    {
     "data": {
      "application/vnd.jupyter.widget-view+json": {
       "model_id": "88633db5cadf47ada27aee2b90db5b8c",
       "version_major": 2,
       "version_minor": 0
      },
      "text/plain": [
       "Training: 0it [00:00, ?it/s]"
      ]
     },
     "metadata": {},
     "output_type": "display_data"
    },
    {
     "name": "stderr",
     "output_type": "stream",
     "text": [
      "GPU available: False, used: False\n",
      "TPU available: None, using: 0 TPU cores\n",
      "\n",
      "  | Name           | Type      | Params\n",
      "---------------------------------------------\n",
      "0 | user_embedding | Embedding | 60.0 K\n",
      "1 | item_embedding | Embedding | 213 K \n",
      "2 | fc1            | Linear    | 390   \n",
      "3 | fc2            | Linear    | 558   \n",
      "4 | fc3            | Linear    | 114   \n",
      "5 | output         | Linear    | 7     \n",
      "---------------------------------------------\n",
      "274 K     Trainable params\n",
      "0         Non-trainable params\n",
      "274 K     Total params\n",
      "1.100     Total estimated model params size (MB)\n"
     ]
    },
    {
     "data": {
      "application/vnd.jupyter.widget-view+json": {
       "model_id": "e512ffa3b0a24eebb95b01f2ef9cff9b",
       "version_major": 2,
       "version_minor": 0
      },
      "text/plain": [
       "Training: 0it [00:00, ?it/s]"
      ]
     },
     "metadata": {},
     "output_type": "display_data"
    },
    {
     "name": "stderr",
     "output_type": "stream",
     "text": [
      "GPU available: False, used: False\n",
      "TPU available: None, using: 0 TPU cores\n",
      "\n",
      "  | Name           | Type      | Params\n",
      "---------------------------------------------\n",
      "0 | user_embedding | Embedding | 70.0 K\n",
      "1 | item_embedding | Embedding | 249 K \n",
      "2 | fc1            | Linear    | 525   \n",
      "3 | fc2            | Linear    | 756   \n",
      "4 | fc3            | Linear    | 154   \n",
      "5 | output         | Linear    | 8     \n",
      "---------------------------------------------\n",
      "320 K     Trainable params\n",
      "0         Non-trainable params\n",
      "320 K     Total params\n",
      "1.284     Total estimated model params size (MB)\n"
     ]
    },
    {
     "data": {
      "application/vnd.jupyter.widget-view+json": {
       "model_id": "3d7bf7b6021d4b4b86965da016a775c4",
       "version_major": 2,
       "version_minor": 0
      },
      "text/plain": [
       "Training: 0it [00:00, ?it/s]"
      ]
     },
     "metadata": {},
     "output_type": "display_data"
    },
    {
     "name": "stderr",
     "output_type": "stream",
     "text": [
      "GPU available: False, used: False\n",
      "TPU available: None, using: 0 TPU cores\n",
      "\n",
      "  | Name           | Type      | Params\n",
      "---------------------------------------------\n",
      "0 | user_embedding | Embedding | 80.0 K\n",
      "1 | item_embedding | Embedding | 285 K \n",
      "2 | fc1            | Linear    | 680   \n",
      "3 | fc2            | Linear    | 984   \n",
      "4 | fc3            | Linear    | 200   \n",
      "5 | output         | Linear    | 9     \n",
      "---------------------------------------------\n",
      "367 K     Trainable params\n",
      "0         Non-trainable params\n",
      "367 K     Total params\n",
      "1.468     Total estimated model params size (MB)\n"
     ]
    },
    {
     "data": {
      "application/vnd.jupyter.widget-view+json": {
       "model_id": "e7f4cea9f08742139b0de40fa012b26a",
       "version_major": 2,
       "version_minor": 0
      },
      "text/plain": [
       "Training: 0it [00:00, ?it/s]"
      ]
     },
     "metadata": {},
     "output_type": "display_data"
    },
    {
     "name": "stderr",
     "output_type": "stream",
     "text": [
      "GPU available: False, used: False\n",
      "TPU available: None, using: 0 TPU cores\n",
      "\n",
      "  | Name           | Type      | Params\n",
      "---------------------------------------------\n",
      "0 | user_embedding | Embedding | 90.0 K\n",
      "1 | item_embedding | Embedding | 320 K \n",
      "2 | fc1            | Linear    | 855   \n",
      "3 | fc2            | Linear    | 1.2 K \n",
      "4 | fc3            | Linear    | 252   \n",
      "5 | output         | Linear    | 10    \n",
      "---------------------------------------------\n",
      "413 K     Trainable params\n",
      "0         Non-trainable params\n",
      "413 K     Total params\n",
      "1.653     Total estimated model params size (MB)\n"
     ]
    },
    {
     "data": {
      "application/vnd.jupyter.widget-view+json": {
       "model_id": "4b989746d27b45d28f0335b0ba9a2707",
       "version_major": 2,
       "version_minor": 0
      },
      "text/plain": [
       "Training: 0it [00:00, ?it/s]"
      ]
     },
     "metadata": {},
     "output_type": "display_data"
    },
    {
     "name": "stderr",
     "output_type": "stream",
     "text": [
      "GPU available: False, used: False\n",
      "TPU available: None, using: 0 TPU cores\n",
      "\n",
      "  | Name           | Type      | Params\n",
      "---------------------------------------------\n",
      "0 | user_embedding | Embedding | 100 K \n",
      "1 | item_embedding | Embedding | 356 K \n",
      "2 | fc1            | Linear    | 1.1 K \n",
      "3 | fc2            | Linear    | 1.5 K \n",
      "4 | fc3            | Linear    | 310   \n",
      "5 | output         | Linear    | 11    \n",
      "---------------------------------------------\n",
      "459 K     Trainable params\n",
      "0         Non-trainable params\n",
      "459 K     Total params\n",
      "1.837     Total estimated model params size (MB)\n"
     ]
    },
    {
     "data": {
      "application/vnd.jupyter.widget-view+json": {
       "model_id": "7a36e8bcdf18418c928ff80e74dccb99",
       "version_major": 2,
       "version_minor": 0
      },
      "text/plain": [
       "Training: 0it [00:00, ?it/s]"
      ]
     },
     "metadata": {},
     "output_type": "display_data"
    }
   ],
   "source": [
    "from tqdm.notebook import tqdm\n",
    "\n",
    "optimal_neg_num = 3\n",
    "recommender = Recommender(neg_num=optimal_neg_num)\n",
    "recommender.set_data_for_model('saves/train_data_for_model-{}_neg.csv'.format(optimal_neg_num), 'saves/val_data_for_model.csv', 'saves/test_data_for_model.csv')\n",
    "\n",
    "val_dict = recommender.val_data.groupby('user_id')['product_id'].apply(list).to_dict()\n",
    "actual_val_dict = recommender.val_data[recommender.val_data['bought'] != 0].groupby('user_id')['product_id'].apply(list).to_dict()\n",
    "train_dict = recommender.train_data.groupby('user_id')['product_id'].apply(list).to_dict()\n",
    "actual_train_dict = recommender.train_data[recommender.train_data['bought'] != 0].groupby('user_id')['product_id'].apply(list).to_dict()\n",
    "\n",
    "mapk_val, mapk_train, hitk_val, hitk_train = [], [], [], []\n",
    "\n",
    "for comp in tqdm([3, 4, 5, 6, 7, 8, 9, 10]):\n",
    "    recommender.set_components_number(comp)\n",
    "    recommender.fit('saves/model-{}-{}neg.pickle'.format(comp, optimal_neg_num), epochs=10)\n",
    "#     recommender.set_model('saves/model-{}-{}neg.pickle'.format(comp, optimal_neg_num))\n",
    "    \n",
    "    preds = []\n",
    "    actuals = []\n",
    "    for user, items in val_dict.items():\n",
    "        res = recommender.predict_for_user(user, items).tolist()\n",
    "        preds += [[x for _, x in sorted(zip(res, items), reverse=True)]]\n",
    "        actuals += [actual_val_dict[user]]\n",
    "    mapk_val += [mapk(actuals, preds)]\n",
    "    hitk_val += [hitk(actuals, preds)]\n",
    "    \n",
    "    preds = []\n",
    "    actuals = []\n",
    "    for user, items in train_dict.items():\n",
    "        res = recommender.predict_for_user(user, items).tolist()\n",
    "        preds += [[x for _, x in sorted(zip(res, items), reverse=True)]]\n",
    "        actuals += [actual_train_dict[user]]\n",
    "    mapk_train += [mapk(actuals, preds)]\n",
    "    hitk_train += [hitk(actuals, preds)]"
   ]
  },
  {
   "cell_type": "code",
   "execution_count": 17,
   "metadata": {},
   "outputs": [
    {
     "data": {
      "image/png": "[encoded data removed]",
      "text/plain": [
       "<Figure size 432x288 with 1 Axes>"
      ]
     },
     "metadata": {
      "needs_background": "light"
     },
     "output_type": "display_data"
    },
    {
     "data": {
      "image/png": "[encoded data removed]",
      "text/plain": [
       "<Figure size 432x288 with 1 Axes>"
      ]
     },
     "metadata": {
      "needs_background": "light"
     },
     "output_type": "display_data"
    }
   ],
   "source": [
    "import matplotlib.pyplot as plt\n",
    "plt.figure(1)\n",
    "plt.plot([3, 4, 5, 6, 7, 8, 9, 10], hitk_train, label='on train data', c='g'),\n",
    "plt.plot([3, 4, 5, 6, 7, 8, 9, 10], hitk_val, label='on validation data', c='y')\n",
    "plt.xlabel('number of components')\n",
    "plt.ylabel('p@10')\n",
    "plt.legend(loc='upper left')\n",
    "plt.show()\n",
    "plt.figure(2)\n",
    "plt.plot([3, 4, 5, 6, 7, 8, 9, 10], mapk_train, label='on train data', c='g'),\n",
    "plt.plot([3, 4, 5, 6, 7, 8, 9, 10], mapk_val, label='on validation data', c='y')\n",
    "plt.xlabel('number of components')\n",
    "plt.ylabel('map@10')\n",
    "plt.legend(loc='upper left')\n",
    "plt.show()"
   ]
  },
  {
   "cell_type": "code",
   "execution_count": null,
   "metadata": {},
   "outputs": [],
   "source": []
  },
  {
   "cell_type": "code",
   "execution_count": 3,
   "metadata": {
    "scrolled": true
   },
   "outputs": [
    {
     "name": "stdout",
     "output_type": "stream",
     "text": [
      "3 negative examples, 4 components in embedding, 10 epochs:\n",
      "mAP@10 0.4973727993405533\n",
      "mP@10 0.5410881801125703\n"
     ]
    }
   ],
   "source": [
    "# orders = pd.read_csv('orders.csv')[['user_id', 'order_id', 'order_number']]\n",
    "# users_subsample = random.sample(orders['user_id'].unique().tolist(), 10000)\n",
    "# orders = orders[orders['user_id'].isin(users_subsample)]\n",
    "# split(orders)\n",
    "\n",
    "optimal_neg_num = 3\n",
    "optimal_comp_num = 4\n",
    "train_df, validation_df, test_df, user_enum, product_enum = load_data()\n",
    "recommender = Recommender(neg_num=optimal_neg_num)\n",
    "recommender.set_components_number(optimal_comp_num)\n",
    "recommender.set_data_for_model('saves/train_data_for_model-{}_neg.csv'.format(optimal_neg_num), 'saves/val_data_for_model.csv', 'saves/test_data_for_model.csv')\n",
    "# recommender.fit('saves/model.pickle', epochs=10)\n",
    "recommender.set_model('saves/model.pickle')\n",
    "\n",
    "test_dict = recommender.test_data.groupby('user_id')['product_id'].apply(list).to_dict()\n",
    "actual_test_dict = recommender.test_data[recommender.test_data['bought'] != 0].groupby('user_id')['product_id'].apply(list).to_dict()\n",
    "\n",
    "preds = []\n",
    "actuals = []\n",
    "for user, items in test_dict.items():\n",
    "    res = recommender.predict_for_user(user, items).tolist()\n",
    "    preds += [[x for _, x in sorted(zip(res, items), reverse=True)]]\n",
    "    actuals += [actual_test_dict[user]]\n",
    "mapk_test = mapk(actuals, preds)\n",
    "hitk_test = hitk(actuals, preds)\n",
    "\n",
    "print('3 negative examples, 4 components in embedding, 10 epochs:')\n",
    "print('mAP@10 {}'.format(mapk_test))\n",
    "print('mP@10 {}'.format(hitk_test))"
   ]
  },
  {
   "cell_type": "code",
   "execution_count": 4,
   "metadata": {},
   "outputs": [
    {
     "name": "stdout",
     "output_type": "stream",
     "text": [
      "Recommendations:\n",
      "Roasted Mushroom Pizza\n",
      "Cage Free Large White Eggs\n",
      "Classico Virgin Olive Oil Bruschnettini\n",
      "Classic Almond Butter All Natural\n",
      "Bread, Natural Fitness\n",
      "Organic Vanilla Bean Ice Cream\n",
      "Half & Half\n",
      "Organic White Cheddar Popcorn\n",
      "Greek Feta Cheese\n",
      "Large Lemon\n",
      "\n",
      "Actual:\n",
      "Caramel Sauce\n",
      "Organic Milk\n",
      "Cornichons Gherkins\n",
      "Vanilla Bean Ice Cream\n",
      "Organic Unsalted Butter\n",
      "Roasted Mushroom Pizza\n",
      "Organic Salted Individually Wrapped Quarters Butter\n",
      "Cage Free Large White Eggs\n",
      "Organic Madagascar Vanilla Ice Cream\n",
      "Lager Beer\n",
      "Bread, Natural Fitness\n",
      "Organic Curry Powder\n",
      "Organic Vanilla Bean Ice Cream\n",
      "Half & Half\n",
      "Bolani Spinach Filled Flatbread\n",
      "Sweet Batard\n",
      "Organic Large Grade AA Brown Eggs\n",
      "Double Fiber Whole Grain Sliced English Muffins\n",
      "Frozen Dark Sweet Pitted Cherries\n",
      "Broccoli Florets\n",
      "Frozen Blueberries\n",
      "Plain Pre-Sliced Bagels\n",
      "Large Lemon\n",
      "\n",
      "Hits:\n",
      "Roasted Mushroom Pizza\n",
      "Cage Free Large White Eggs\n",
      "Bread, Natural Fitness\n",
      "Organic Vanilla Bean Ice Cream\n",
      "Half & Half\n",
      "Large Lemon\n"
     ]
    }
   ],
   "source": [
    "user_id = 10\n",
    "user_data = recommender.test_data[recommender.test_data['user_id'] == user_id]\n",
    "actual = user_data[user_data['bought'] != 0]['product_id'].to_list()\n",
    "to_predict = user_data['product_id'].to_list()\n",
    "res = recommender.predict_for_user(user_id, to_predict).tolist()\n",
    "predicted = [x for _, x in sorted(zip(res, to_predict), reverse=True)][:10]\n",
    "inv_product_enum = {v: k for k, v in product_enum.items()}\n",
    "predicted = [inv_product_enum[i] for i in predicted]\n",
    "actual = [inv_product_enum[i] for i in actual]\n",
    "\n",
    "hits = np.intersect1d(predicted, actual)\n",
    "products = pd.read_csv('products.csv')\n",
    "predicted = list(products[products['product_id'].isin(predicted)]['product_name'])\n",
    "actual = list(products[products['product_id'].isin(actual)]['product_name'])\n",
    "hits = list(products[products['product_id'].isin(hits)]['product_name'])\n",
    "print('Recommendations:')\n",
    "print(*predicted, sep='\\n')\n",
    "print('\\nActual:')\n",
    "print(*actual, sep='\\n')\n",
    "print('\\nHits:')\n",
    "print(*hits, sep='\\n')"
   ]
  },
  {
   "cell_type": "code",
   "execution_count": 4,
   "metadata": {},
   "outputs": [
    {
     "data": {
      "text/plain": [
       "[[0.2670181691646576, 0.27601850032806396],\n",
       " [0.19860729575157166, 0.2309517115354538]]"
      ]
     },
     "execution_count": 4,
     "metadata": {},
     "output_type": "execute_result"
    }
   ],
   "source": [
    "recommender.predict([1, 1001], [3, 15])"
   ]
  },
  {
   "cell_type": "code",
   "execution_count": 5,
   "metadata": {},
   "outputs": [
    {
     "data": {
      "text/plain": [
       "[0.23553025722503662,\n",
       " 0.004860855173319578,\n",
       " 0.23494558036327362,\n",
       " 0.013939998112618923]"
      ]
     },
     "execution_count": 5,
     "metadata": {},
     "output_type": "execute_result"
    }
   ],
   "source": [
    "recommender.predict_for_user(0, [3, 2, 0, 1])"
   ]
  },
  {
   "cell_type": "code",
   "execution_count": null,
   "metadata": {},
   "outputs": [],
   "source": []
  }
 ],
 "metadata": {
  "kernelspec": {
   "display_name": "Python 3",
   "language": "python",
   "name": "python3"
  },
  "language_info": {
   "codemirror_mode": {
    "name": "ipython",
    "version": 3
   },
   "file_extension": ".py",
   "mimetype": "text/x-python",
   "name": "python",
   "nbconvert_exporter": "python",
   "pygments_lexer": "ipython3",
   "version": "3.7.4"
  }
 },
 "nbformat": 4,
 "nbformat_minor": 2
}
